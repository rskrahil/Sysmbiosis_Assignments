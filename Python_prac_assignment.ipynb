{
 "cells": [
  {
   "cell_type": "code",
   "execution_count": 1,
   "id": "aaf4616b",
   "metadata": {},
   "outputs": [
    {
     "name": "stdout",
     "output_type": "stream",
     "text": [
      "length in cm 5\n",
      "breadth in cm 10\n",
      "your area of rectangle is: 50 cm^2\n"
     ]
    }
   ],
   "source": [
    "#wap area of rectangle\n",
    "\n",
    "l = int(input(\"length in cm \"))\n",
    "b = int(input(\"breadth in cm \"))\n",
    "a = l*b\n",
    "print(\"your area of rectangle is:\",a,\"cm^2\")"
   ]
  },
  {
   "cell_type": "code",
   "execution_count": 2,
   "id": "b5775a31",
   "metadata": {},
   "outputs": [
    {
     "name": "stdout",
     "output_type": "stream",
     "text": [
      "enter radius 7\n",
      "Area : 153.86\n"
     ]
    }
   ],
   "source": [
    "#Area of a circle\n",
    "\n",
    "r = int(input(\"enter radius \"))\n",
    "a = 3.14*(r*r)\n",
    "print(\"Area :\",a)"
   ]
  },
  {
   "cell_type": "code",
   "execution_count": 4,
   "id": "8cd5733b",
   "metadata": {},
   "outputs": [
    {
     "name": "stdout",
     "output_type": "stream",
     "text": [
      "Enter length 11\n",
      "Enter breadth 15\n",
      "Enter height 9\n",
      "The Area is : 798\n"
     ]
    }
   ],
   "source": [
    "#Area of a Cuboid\n",
    "\n",
    "l = int(input(\"Enter length \"))\n",
    "b = int(input(\"Enter breadth \"))\n",
    "h = int(input(\"Enter height \"))\n",
    "a = 2*(l*b+b*h+h*l)\n",
    "print(\"The Area is :\",a)"
   ]
  },
  {
   "cell_type": "code",
   "execution_count": 5,
   "id": "2e581f1e",
   "metadata": {},
   "outputs": [
    {
     "name": "stdout",
     "output_type": "stream",
     "text": [
      "Enter length of cube 8\n",
      "The area of cube is : 384\n"
     ]
    }
   ],
   "source": [
    "#area of cube\n",
    "\n",
    "a = int(input(\"Enter length of cube \"))\n",
    "x = 6*(a*a)\n",
    "print(\"The area of cube is :\",x)"
   ]
  },
  {
   "cell_type": "code",
   "execution_count": 6,
   "id": "fc54003c",
   "metadata": {},
   "outputs": [
    {
     "name": "stdout",
     "output_type": "stream",
     "text": [
      "Enter radius 10\n",
      "Enter height 15\n",
      "C.S.A is  942.0\n"
     ]
    }
   ],
   "source": [
    "#Area of csa of cylinder\n",
    "\n",
    "r = int(input(\"Enter radius \"))\n",
    "h = int(input(\"Enter height \"))\n",
    "a = 2*(3.14*(r*h))\n",
    "print(\"C.S.A is \",a)"
   ]
  },
  {
   "cell_type": "code",
   "execution_count": 7,
   "id": "bd3d2f07",
   "metadata": {},
   "outputs": [
    {
     "name": "stdout",
     "output_type": "stream",
     "text": [
      "Enter radius 15\n",
      "Enter height 17\n",
      "Area is : 3014.4\n"
     ]
    }
   ],
   "source": [
    "#Area of TSA of Cylinder\n",
    "\n",
    "r = int(input(\"Enter radius \"))\n",
    "h = int(input(\"Enter height \"))\n",
    "a = 2*3.14*r*(r+h)\n",
    "print(\"Area is :\",a)"
   ]
  },
  {
   "cell_type": "code",
   "execution_count": 8,
   "id": "d37eead3",
   "metadata": {},
   "outputs": [
    {
     "name": "stdout",
     "output_type": "stream",
     "text": [
      "Enter radius 15\n",
      "Enter length 17\n",
      "CSA is : 800.7\n"
     ]
    }
   ],
   "source": [
    "#Area of CSA of cone\n",
    "\n",
    "r = int(input(\"Enter radius \"))\n",
    "l = int(input(\"Enter length \"))\n",
    "a = 3.14*r*l\n",
    "print(\"CSA is :\",a)"
   ]
  },
  {
   "cell_type": "code",
   "execution_count": 9,
   "id": "f67a68ee",
   "metadata": {},
   "outputs": [
    {
     "name": "stdout",
     "output_type": "stream",
     "text": [
      "Enter radius 15\n",
      "Enter slant height 10\n",
      "The TSA is : 1177.5\n"
     ]
    }
   ],
   "source": [
    "#Area of TSA of right circular cone\n",
    "\n",
    "r = int(input(\"Enter radius \"))\n",
    "l = int(input(\"Enter slant height \"))\n",
    "a = 3.14*r*(l+r)\n",
    "print(\"The TSA is :\",a)"
   ]
  },
  {
   "cell_type": "code",
   "execution_count": 3,
   "id": "5bf9c315",
   "metadata": {},
   "outputs": [
    {
     "name": "stdout",
     "output_type": "stream",
     "text": [
      "Enter radius 7\n",
      "TSA of sphere is : 615.44\n"
     ]
    }
   ],
   "source": [
    "r = int(input(\"Enter radius \"))\n",
    "a = 4*(3.14*(r*r))\n",
    "print(\"TSA of sphere is :\",a)"
   ]
  },
  {
   "cell_type": "code",
   "execution_count": 4,
   "id": "5387cbad",
   "metadata": {},
   "outputs": [
    {
     "name": "stdout",
     "output_type": "stream",
     "text": [
      "enter radius8\n",
      "TSA of sphere is:  803.84\n"
     ]
    }
   ],
   "source": [
    "#TSA of a sphere\n",
    "\n",
    "r = int(input(\"enter radius\"))\n",
    "a = 4*(3.14*(r*r))\n",
    "print(\"TSA of sphere is: \", a)"
   ]
  },
  {
   "cell_type": "code",
   "execution_count": 5,
   "id": "faa87bfd",
   "metadata": {},
   "outputs": [
    {
     "name": "stdout",
     "output_type": "stream",
     "text": [
      "enter length 7\n",
      "enter breadth 5\n",
      "enter height 9\n",
      "Volume of cuboid  315\n"
     ]
    }
   ],
   "source": [
    "#WAP volume of cuboid\n",
    "\n",
    "l = int(input(\"enter length \"))\n",
    "b = int(input('enter breadth '))\n",
    "h = int(input ('enter height '))\n",
    "a = l*b*h\n",
    "print('Volume of cuboid ', a)"
   ]
  },
  {
   "cell_type": "code",
   "execution_count": 6,
   "id": "1538cb1f",
   "metadata": {},
   "outputs": [
    {
     "name": "stdout",
     "output_type": "stream",
     "text": [
      "enter length 8\n",
      "Volume of cube  512\n"
     ]
    }
   ],
   "source": [
    "l = int(input(\"enter length \"))\n",
    "a = l*l*l\n",
    "print(\"Volume of cube \", a)"
   ]
  },
  {
   "cell_type": "code",
   "execution_count": 7,
   "id": "eddaf128",
   "metadata": {},
   "outputs": [
    {
     "name": "stdout",
     "output_type": "stream",
     "text": [
      "enter radius 7\n",
      "enter height 9\n",
      "Volume of cylinder  1384.7400000000002\n"
     ]
    }
   ],
   "source": [
    "r = int(input(\"enter radius \"))\n",
    "h = int(input(\"enter height \"))\n",
    "v = 3.14*(r*r)*h\n",
    "print(\"Volume of cylinder \",v)"
   ]
  },
  {
   "cell_type": "code",
   "execution_count": 9,
   "id": "039341f0",
   "metadata": {},
   "outputs": [
    {
     "name": "stdout",
     "output_type": "stream",
     "text": [
      "Enter radius 4\n",
      "Enter height 3\n",
      "volume of cone  50.239999999999995\n"
     ]
    }
   ],
   "source": [
    "#volume of cone\n",
    "\n",
    "r = int(input(\"Enter radius \"))\n",
    "h = int(input('Enter height '))\n",
    "v = 1/3*(3.14*(r*r)*h)\n",
    "print(\"volume of cone \",v)"
   ]
  },
  {
   "cell_type": "code",
   "execution_count": 10,
   "id": "502ba1fc",
   "metadata": {},
   "outputs": [
    {
     "name": "stdout",
     "output_type": "stream",
     "text": [
      "Enter radius 4\n",
      "volume is:  267.94666666666666\n"
     ]
    }
   ],
   "source": [
    "#volume of sphere\n",
    "\n",
    "r = int(input(\"Enter radius \"))\n",
    "v = 4/3*(3.14*(r*r*r))\n",
    "print('volume is: ',v)"
   ]
  },
  {
   "cell_type": "code",
   "execution_count": 11,
   "id": "eb0883ca",
   "metadata": {},
   "outputs": [
    {
     "name": "stdout",
     "output_type": "stream",
     "text": [
      "Enter radius 5\n",
      "Enter breadth in cm 9\n",
      "Perimeter of rectangle is  28\n"
     ]
    }
   ],
   "source": [
    "#Perimeter of rectangle \n",
    "l = int(input(\"Enter radius \"))\n",
    "b = int(input(\"Enter breadth in cm \"))\n",
    "a = 2*(l+b)\n",
    "print(\"Perimeter of rectangle is \",a)"
   ]
  },
  {
   "cell_type": "code",
   "execution_count": 12,
   "id": "e1318268",
   "metadata": {},
   "outputs": [
    {
     "name": "stdout",
     "output_type": "stream",
     "text": [
      "Enter length 7\n",
      "area of square is:  49 cm^2\n"
     ]
    }
   ],
   "source": [
    "#Area of square\n",
    "\n",
    "a = int(input(\"Enter length \"))\n",
    "x = a*a\n",
    "print(\"area of square is: \",x,'cm^2')"
   ]
  },
  {
   "cell_type": "code",
   "execution_count": 13,
   "id": "c7195680",
   "metadata": {},
   "outputs": [
    {
     "name": "stdout",
     "output_type": "stream",
     "text": [
      "Enter height 5\n",
      "Enter base 6\n",
      "your area is:  15.0 cm^2\n"
     ]
    }
   ],
   "source": [
    "h = int(input(\"Enter height \"))\n",
    "b = int(input(\"Enter base \"))\n",
    "a =1/2*(b*h)\n",
    "print(\"your area is: \",a,\"cm^2\")"
   ]
  },
  {
   "cell_type": "code",
   "execution_count": 14,
   "id": "9aef8c3a",
   "metadata": {},
   "outputs": [
    {
     "name": "stdout",
     "output_type": "stream",
     "text": [
      "Enter first number 5\n",
      "Enter second number 6\n",
      "Enter third number 7\n",
      "greates number is  7\n"
     ]
    }
   ],
   "source": [
    "a = int(input(\"Enter first number \"))\n",
    "b = int(input(\"Enter second number \"))\n",
    "c = int(input(\"Enter third number \"))\n",
    "if a >b:\n",
    "    if a>c:\n",
    "        print(\"the greatest number is: \",a)\n",
    "    else:\n",
    "        print(\"The greatest number is: \",c)\n",
    "else:\n",
    "    if b>c:\n",
    "        print(\"greatest number is \",b)\n",
    "    else:\n",
    "        print(\"greates number is \",c)"
   ]
  },
  {
   "cell_type": "code",
   "execution_count": 15,
   "id": "22dc8505",
   "metadata": {},
   "outputs": [
    {
     "name": "stdout",
     "output_type": "stream",
     "text": [
      "Enter first side of triangle 7\n",
      "Enter second side of triangle 8\n",
      "Enter third side of triangle 3\n",
      "The perimeter is  18\n"
     ]
    }
   ],
   "source": [
    "a = int(input(\"Enter first side of triangle \"))\n",
    "b = int(input(\"Enter second side of triangle \"))\n",
    "c = int(input(\"Enter third side of triangle \"))\n",
    "p = a+b+c\n",
    "print(\"The perimeter is \", p)"
   ]
  },
  {
   "cell_type": "code",
   "execution_count": 16,
   "id": "d1f87e2c",
   "metadata": {},
   "outputs": [
    {
     "name": "stdout",
     "output_type": "stream",
     "text": [
      "Enter first number 7\n",
      "Enter second number 9\n",
      "Enter third number 2\n",
      "Enter fourth number 20\n",
      "Greatest number  is  20.0\n"
     ]
    }
   ],
   "source": [
    "a = float(input(\"Enter first number \"))\n",
    "b = float(input(\"Enter second number \"))\n",
    "c = float(input(\"Enter third number \"))\n",
    "d = float(input(\"Enter fourth number \"))\n",
    "if (a>b and a>c and a>d):\n",
    "    print(\"Greatest number  is \",a)\n",
    "elif (b>c and b>d):\n",
    "    print(\"Greatest number  is \",b)\n",
    "elif(c>d):\n",
    "    print(\"Greatest number  is \",c)\n",
    "elif(d>c):\n",
    "    print(\"Greatest number  is \",d)\n",
    "else:\n",
    "    print(\"Either two values or all four values are equal\")\n",
    "\n"
   ]
  },
  {
   "cell_type": "code",
   "execution_count": 20,
   "id": "cfdc93d3",
   "metadata": {},
   "outputs": [
    {
     "name": "stdout",
     "output_type": "stream",
     "text": [
      "Enter marks out of 300 250\n",
      "Percentage  83.33333333333334 %\n",
      "your division is first\n"
     ]
    }
   ],
   "source": [
    "a = eval(input(\"Enter marks out of 300 \"))\n",
    "b = a/300*100\n",
    "print(\"Percentage \",b,\"%\")\n",
    "if(a>300):\n",
    "    print(\"you entered wrong marks\")\n",
    "elif b>60:\n",
    "    print(\"your division is first\")\n",
    "elif(b>50 and b<59):\n",
    "    print(\"your division is second \")\n",
    "elif(b>33 and b<50):\n",
    "    print(\"your division is third \")\n",
    "else:\n",
    "    print(\"Fail\")"
   ]
  },
  {
   "cell_type": "code",
   "execution_count": 21,
   "id": "80e8df57",
   "metadata": {},
   "outputs": [
    {
     "name": "stdout",
     "output_type": "stream",
     "text": [
      "enter your age 99\n",
      "Senior Citizen \n"
     ]
    }
   ],
   "source": [
    "#Age Criteria\n",
    "\n",
    "y = int(input(\"enter your age \"))\n",
    "if (y>0 and y<12):\n",
    "    print(\"Kid\")\n",
    "elif(y>=12 and y<19):\n",
    "    print(\"Teenager\")\n",
    "elif(y>19 and y<30):\n",
    "    print(\"Young\")\n",
    "elif(y>30 and y<45):\n",
    "    print(\"Mature\")\n",
    "elif(y>45 and y<60):\n",
    "    print(\"Experienced\")\n",
    "elif(y>60 and y<75):\n",
    "    print(\"Old\")\n",
    "elif(y>75):\n",
    "    print(\"Senior Citizen \")"
   ]
  },
  {
   "cell_type": "code",
   "execution_count": 22,
   "id": "1652c765",
   "metadata": {},
   "outputs": [
    {
     "name": "stdout",
     "output_type": "stream",
     "text": [
      "enter limit7\n",
      "The sum is 21\n"
     ]
    }
   ],
   "source": [
    "n = int(input(\"enter limit\"))\n",
    "s = 0\n",
    "for c in range(1,n):\n",
    "    s = c+s\n",
    "print(\"The sum is\",s)"
   ]
  },
  {
   "cell_type": "code",
   "execution_count": 25,
   "id": "668be86e",
   "metadata": {},
   "outputs": [
    {
     "name": "stdout",
     "output_type": "stream",
     "text": [
      "Enter a number7\n",
      "the factorial of 7 is 5040\n"
     ]
    }
   ],
   "source": [
    "#Check the value of factorial \n",
    "a = int(input(\"Enter a number\"))\n",
    "factorial = 1\n",
    "if a<0:\n",
    "    print(\"Sorry, factorial does not exist for negative number\")\n",
    "elif a ==0:\n",
    "    print(\"The factorial of 0 is 1\")\n",
    "else:\n",
    "    for i in range(1,a+1):\n",
    "        factorial = factorial*i\n",
    "    print(\"the factorial of\",a,'is',factorial)"
   ]
  },
  {
   "cell_type": "code",
   "execution_count": 27,
   "id": "dd386df3",
   "metadata": {},
   "outputs": [
    {
     "name": "stdout",
     "output_type": "stream",
     "text": [
      "show the multiplication table of?8\n",
      "8 x 1 = 8\n",
      "8 x 2 = 16\n",
      "8 x 3 = 24\n",
      "8 x 4 = 32\n",
      "8 x 5 = 40\n",
      "8 x 6 = 48\n",
      "8 x 7 = 56\n",
      "8 x 8 = 64\n",
      "8 x 9 = 72\n",
      "8 x 10 = 80\n"
     ]
    }
   ],
   "source": [
    "#Check the multiplication table\n",
    "a = int(input(\"show the multiplication table of?\"))\n",
    "for i in range(1,11):\n",
    "    print(a,\"x\",i,'=',a*i)"
   ]
  },
  {
   "cell_type": "code",
   "execution_count": 30,
   "id": "dde2f9a1",
   "metadata": {},
   "outputs": [
    {
     "name": "stdout",
     "output_type": "stream",
     "text": [
      "Enter the number rows 8\n",
      "********\n",
      "*******\n",
      "******\n",
      "*****\n",
      "****\n",
      "***\n",
      "**\n",
      "*\n"
     ]
    }
   ],
   "source": [
    "#Opposite right  angle\n",
    "num = int(input(\"Enter the number rows \"))\n",
    "for i in range(num,0,-1):\n",
    "    for j in range (0,i):\n",
    "        print(\"*\",end='')\n",
    "    print()"
   ]
  },
  {
   "cell_type": "code",
   "execution_count": 32,
   "id": "11419d74",
   "metadata": {},
   "outputs": [
    {
     "name": "stdout",
     "output_type": "stream",
     "text": [
      "enter the no. of rows:4\n",
      "1\n",
      "22\n",
      "333\n",
      "4444\n"
     ]
    }
   ],
   "source": [
    "n = int(input(\"enter the no. of rows:\"))\n",
    "for i in range(1,n+1):\n",
    "    for j in range(1,i+1):\n",
    "        print(i,end=\"\")\n",
    "    print()"
   ]
  },
  {
   "cell_type": "code",
   "execution_count": 33,
   "id": "5dd960ba",
   "metadata": {},
   "outputs": [
    {
     "name": "stdout",
     "output_type": "stream",
     "text": [
      "enter the number of rows: 5\n",
      "     *\n",
      "    **\n",
      "   ***\n",
      "  ****\n",
      " *****\n"
     ]
    }
   ],
   "source": [
    "num = int(input('enter the number of rows: '))\n",
    "for i in range(0,num):\n",
    "    for j in range(0,num-i):\n",
    "        print(\" \",end = \"\")\n",
    "    for k in range(0,i+1):\n",
    "        print(\"*\",end=\"\")\n",
    "    print(\"\")"
   ]
  },
  {
   "cell_type": "code",
   "execution_count": 34,
   "id": "e8ea26b6",
   "metadata": {},
   "outputs": [
    {
     "name": "stdout",
     "output_type": "stream",
     "text": [
      "enter the number of rows: 8\n",
      "1\n",
      "12\n",
      "123\n",
      "1234\n",
      "12345\n",
      "123456\n",
      "1234567\n",
      "12345678\n"
     ]
    }
   ],
   "source": [
    "n = int(input(\"enter the number of rows: \"))\n",
    "for i in range(1,n+1):\n",
    "    for j in range(1,i+1):\n",
    "        print(j,end=\"\")\n",
    "    print()"
   ]
  },
  {
   "cell_type": "code",
   "execution_count": 36,
   "id": "99b307f4",
   "metadata": {},
   "outputs": [
    {
     "name": "stdout",
     "output_type": "stream",
     "text": [
      "enter the range8\n",
      "0\n",
      "1\n",
      "1\n",
      "2\n",
      "3\n",
      "5\n",
      "8\n",
      "13\n"
     ]
    }
   ],
   "source": [
    "a = eval(input(\"enter the range\"))\n",
    "i = 0\n",
    "first_value = 0\n",
    "second_value = 1\n",
    "while(i<a):\n",
    "    if(i<=1):\n",
    "        Next = i\n",
    "    else:\n",
    "        Next = first_value + second_value\n",
    "        first_value = second_value\n",
    "        second_value = Next\n",
    "    print(Next)\n",
    "    i = i + 1"
   ]
  },
  {
   "cell_type": "code",
   "execution_count": 1,
   "id": "b9956acc",
   "metadata": {},
   "outputs": [
    {
     "name": "stdout",
     "output_type": "stream",
     "text": [
      "Enter the range 8\n",
      "0\n",
      "1\n",
      "1\n",
      "2\n",
      "3\n",
      "5\n",
      "8\n",
      "13\n"
     ]
    }
   ],
   "source": [
    "#fibionacci using for loop\n",
    "\n",
    "number = int(input(\"Enter the range \"))\n",
    "first_value  = 0\n",
    "second_value = 1\n",
    "for num in range(0,number):\n",
    "    if(num<=1):\n",
    "        NEXT = num\n",
    "    else:\n",
    "        NEXT = first_value + second_value\n",
    "        first_value = second_value\n",
    "        second_value = NEXT\n",
    "    print(NEXT)"
   ]
  },
  {
   "cell_type": "code",
   "execution_count": 4,
   "id": "5cfad4bf",
   "metadata": {},
   "outputs": [
    {
     "name": "stdout",
     "output_type": "stream",
     "text": [
      "Enter a character h\n",
      "A\n",
      "AB\n",
      "ABC\n",
      "ABCD\n",
      "ABCDE\n",
      "ABCDEF\n",
      "ABCDEFG\n",
      "ABCDEFGH\n",
      "ABCDEFGHI\n",
      "ABCDEFGHIJ\n",
      "ABCDEFGHIJK\n",
      "ABCDEFGHIJKL\n",
      "ABCDEFGHIJKLM\n",
      "ABCDEFGHIJKLMN\n",
      "ABCDEFGHIJKLMNO\n",
      "ABCDEFGHIJKLMNOP\n",
      "ABCDEFGHIJKLMNOPQ\n",
      "ABCDEFGHIJKLMNOPQR\n",
      "ABCDEFGHIJKLMNOPQRS\n",
      "ABCDEFGHIJKLMNOPQRST\n",
      "ABCDEFGHIJKLMNOPQRSTU\n",
      "ABCDEFGHIJKLMNOPQRSTUV\n",
      "ABCDEFGHIJKLMNOPQRSTUVW\n",
      "ABCDEFGHIJKLMNOPQRSTUVWX\n",
      "ABCDEFGHIJKLMNOPQRSTUVWXY\n",
      "ABCDEFGHIJKLMNOPQRSTUVWXYZ\n",
      "ABCDEFGHIJKLMNOPQRSTUVWXYZ[\n",
      "ABCDEFGHIJKLMNOPQRSTUVWXYZ[\\\n",
      "ABCDEFGHIJKLMNOPQRSTUVWXYZ[\\]\n",
      "ABCDEFGHIJKLMNOPQRSTUVWXYZ[\\]^\n",
      "ABCDEFGHIJKLMNOPQRSTUVWXYZ[\\]^_\n",
      "ABCDEFGHIJKLMNOPQRSTUVWXYZ[\\]^_`\n",
      "ABCDEFGHIJKLMNOPQRSTUVWXYZ[\\]^_`a\n",
      "ABCDEFGHIJKLMNOPQRSTUVWXYZ[\\]^_`ab\n",
      "ABCDEFGHIJKLMNOPQRSTUVWXYZ[\\]^_`abc\n",
      "ABCDEFGHIJKLMNOPQRSTUVWXYZ[\\]^_`abcd\n",
      "ABCDEFGHIJKLMNOPQRSTUVWXYZ[\\]^_`abcde\n",
      "ABCDEFGHIJKLMNOPQRSTUVWXYZ[\\]^_`abcdef\n",
      "ABCDEFGHIJKLMNOPQRSTUVWXYZ[\\]^_`abcdefg\n",
      "ABCDEFGHIJKLMNOPQRSTUVWXYZ[\\]^_`abcdefgh\n"
     ]
    }
   ],
   "source": [
    "#A,AB,ABC pattern\n",
    "\n",
    "ch = str(input(\"Enter a character \"))\n",
    "a = ord(ch)\n",
    "for x in range(65,a+1):\n",
    "    for c in range(65,x+1):\n",
    "        print(chr(c),end=\"\")\n",
    "    print(\"\")"
   ]
  },
  {
   "cell_type": "code",
   "execution_count": 5,
   "id": "e647f4e0",
   "metadata": {},
   "outputs": [
    {
     "name": "stdout",
     "output_type": "stream",
     "text": [
      "Enter a number 8\n",
      "Enter a power 4\n",
      "4096\n"
     ]
    }
   ],
   "source": [
    "#Calculation of Xn by for Loop\n",
    "\n",
    "x = int(input(\"Enter a number \"))\n",
    "b = int(input(\"Enter a power \"))\n",
    "y=x \n",
    "for a in range(0,b-1):\n",
    "    y=x*y\n",
    "print(y)"
   ]
  },
  {
   "cell_type": "code",
   "execution_count": 6,
   "id": "bd60e291",
   "metadata": {},
   "outputs": [
    {
     "name": "stdout",
     "output_type": "stream",
     "text": [
      "Enter number 9\n",
      "Enter power 4\n",
      "6561\n"
     ]
    }
   ],
   "source": [
    "#Calculation of Xn\n",
    "\n",
    "a = int(input(\"Enter number \"))\n",
    "b = int(input(\"Enter power \"))\n",
    "c = a**b\n",
    "print(c)"
   ]
  },
  {
   "cell_type": "code",
   "execution_count": 8,
   "id": "a00d7bee",
   "metadata": {},
   "outputs": [
    {
     "name": "stdout",
     "output_type": "stream",
     "text": [
      "enter a number 454\n",
      "The number is palindrome\n"
     ]
    }
   ],
   "source": [
    "#Palindrome or not palindrome\n",
    "\n",
    "n = int(input(\"enter a number \"))\n",
    "x = n\n",
    "r = 0\n",
    "while n>0:\n",
    "    d = n%10\n",
    "    r = r*10+d\n",
    "    n = n//10\n",
    "if x==r:\n",
    "    print(\"The number is palindrome\")\n",
    "else:\n",
    "    print(\"The number is not palindrome\")"
   ]
  },
  {
   "cell_type": "code",
   "execution_count": 10,
   "id": "200c5c84",
   "metadata": {},
   "outputs": [
    {
     "name": "stdout",
     "output_type": "stream",
     "text": [
      "Enter the element of list 4\n",
      "do you want to enter more element: 6\n",
      "The list is:  [4]\n",
      "The factorial of each element is: [24]\n"
     ]
    }
   ],
   "source": [
    "#Factorial of a list\n",
    "a = []\n",
    "fact = []\n",
    "ch=\"y\"\n",
    "while ch==\"y\" or ch==\"Y\":\n",
    "    item = int(input(\"Enter the element of list \"))\n",
    "    a.append(item)\n",
    "    ch=input(\"do you want to enter more element: \")\n",
    "print(\"The list is: \",a)\n",
    "for i in a:\n",
    "    f = 1\n",
    "    for j in range(1,i+1):\n",
    "        f=f*j\n",
    "    fact.append(f)\n",
    "print(\"The factorial of each element is:\",fact)"
   ]
  },
  {
   "cell_type": "code",
   "execution_count": 12,
   "id": "2d11a527",
   "metadata": {},
   "outputs": [
    {
     "name": "stdout",
     "output_type": "stream",
     "text": [
      "enter rows 6\n",
      "     * \n",
      "    * * \n",
      "   * * * \n",
      "  * * * * \n",
      " * * * * * \n",
      "* * * * * * \n"
     ]
    }
   ],
   "source": [
    "#Print pascal triangle\n",
    "n = int(input(\"enter rows \"))\n",
    "for i in range(0,n):\n",
    "    for j in range(0,n-i-1):\n",
    "        print(end=\" \")\n",
    "    for j in range(0,i+1):\n",
    "        print(\"*\",end=\" \")\n",
    "    print()"
   ]
  },
  {
   "cell_type": "code",
   "execution_count": 13,
   "id": "6d6b1b8c",
   "metadata": {},
   "outputs": [
    {
     "name": "stdout",
     "output_type": "stream",
     "text": [
      "Enter limit 5\n",
      "Enter element 75\n",
      "Enter element 54\n",
      "Enter element 90\n",
      "Enter element 32\n",
      "Enter element 55\n",
      "[75, 54, 90, 32, 55]\n"
     ]
    }
   ],
   "source": [
    "#create a list of values inputted by user\n",
    "\n",
    "a = eval(input(\"Enter limit \"))\n",
    "n = []\n",
    "for a in range(1,a+1):\n",
    "    a = eval(input(\"Enter element \"))\n",
    "    n.append(a)\n",
    "print(n)"
   ]
  },
  {
   "cell_type": "code",
   "execution_count": 14,
   "id": "ef9f4cdc",
   "metadata": {},
   "outputs": [
    {
     "name": "stdout",
     "output_type": "stream",
     "text": [
      "Enter limit 4\n",
      "Enter element 66\n",
      "Enter element 43\n",
      "Enter element 90\n",
      "Enter element 78\n",
      "[66, 43, 90, 78]\n",
      "after sorting the list is \n",
      "[66, 43, 90, 78]\n"
     ]
    }
   ],
   "source": [
    "a = eval(input(\"Enter limit \"))\n",
    "lst = []\n",
    "for a in range(1,a+1):\n",
    "    a = eval (input(\"Enter element \"))\n",
    "    lst.append(a)\n",
    "print(lst)\n",
    "l = len(lst)\n",
    "for i in range(1):\n",
    "    for j in range(0,1-i-1):\n",
    "        if lst[j]>lst[j+1]:\n",
    "            temp = lst[j]\n",
    "            lst[j]=lst[j+1]\n",
    "            lst[j+1]=temp\n",
    "print(\"after sorting the list is \")\n",
    "print(lst)"
   ]
  },
  {
   "cell_type": "code",
   "execution_count": 1,
   "id": "dfd0ca5c",
   "metadata": {},
   "outputs": [
    {
     "name": "stdout",
     "output_type": "stream",
     "text": [
      "Enter limit 3\n",
      "Enter element 66\n",
      "Enter element 54\n",
      "Enter element 90\n",
      "[66, 54, 90]\n",
      "after sorting the list is \n",
      "[66, 54, 90]\n"
     ]
    }
   ],
   "source": [
    "#sorting in ascending order using bubble order\n",
    "a = eval(input(\"Enter limit \"))\n",
    "lst = []\n",
    "for a in range(1,a+1):\n",
    "    a = eval (input(\"Enter element \"))\n",
    "    lst.append(a)\n",
    "print(lst)\n",
    "l = len(lst)\n",
    "for i in range(1):\n",
    "    for j in range(0,1-i-1):\n",
    "        if lst[j]>lst[j+1]:\n",
    "            temp = lst[j]\n",
    "            lst[j]=lst[j+1]\n",
    "            lst[j+1]=temp\n",
    "print(\"after sorting the list is \")\n",
    "print(lst)"
   ]
  },
  {
   "cell_type": "code",
   "execution_count": 2,
   "id": "dddfd063",
   "metadata": {},
   "outputs": [
    {
     "name": "stdout",
     "output_type": "stream",
     "text": [
      "Enter a limit 1\n",
      "Enter a mobile number 9766524358\n",
      "Enter name Baap\n",
      "{9766524358: 'Baap'}\n",
      "Enter the number to search in dictionary9766524358\n",
      "The name of person is  Baap\n"
     ]
    }
   ],
   "source": [
    "#Creating phone dictionary\n",
    "\n",
    "n = int(input(\"Enter a limit \"))\n",
    "m = {}\n",
    "mob = 0\n",
    "name = \"\"\n",
    "i = 0\n",
    "for i in range(0,n):\n",
    "    mob = int(input(\"Enter a mobile number \"))\n",
    "    name = str(input(\"Enter name \"))\n",
    "    z2 = dict({mob:name})\n",
    "    m.update(z2)\n",
    "print(m)\n",
    "n = int(input(\"Enter the number to search in dictionary\"))\n",
    "print(\"The name of person is \",m[n])"
   ]
  },
  {
   "cell_type": "code",
   "execution_count": 4,
   "id": "0c5dbb5e",
   "metadata": {},
   "outputs": [
    {
     "name": "stdout",
     "output_type": "stream",
     "text": [
      "Enter a number 77\n",
      "77 is not a prime number\n"
     ]
    }
   ],
   "source": [
    "#to find given number is prime or not\n",
    "num = int(input(\"Enter a number \"))\n",
    "lim = int(num/2)+1\n",
    "for i in range(2,lim):\n",
    "    rem = num%i\n",
    "    if rem ==0:\n",
    "        print(num,\"is not a prime number\")\n",
    "        break\n",
    "else:\n",
    "    print(num,\"is prime number\")"
   ]
  },
  {
   "cell_type": "code",
   "execution_count": 5,
   "id": "4f816744",
   "metadata": {},
   "outputs": [
    {
     "name": "stdout",
     "output_type": "stream",
     "text": [
      "Enter limit 3\n",
      "Enter element 55\n",
      "Enter element 73\n",
      "Enter element 98\n",
      "Tuple is  (55, 73, 98)\n"
     ]
    }
   ],
   "source": [
    "#Create a tuple of values inputed by user\n",
    "a = ()\n",
    "l = []\n",
    "n = int(input(\"Enter limit \"))\n",
    "for i in range(0,n):\n",
    "    item= int(input(\"Enter element \"))\n",
    "    l.append(item)\n",
    "a=a+tuple(l)\n",
    "print(\"Tuple is \",a)"
   ]
  },
  {
   "cell_type": "code",
   "execution_count": 7,
   "id": "6b7f1332",
   "metadata": {},
   "outputs": [
    {
     "name": "stdout",
     "output_type": "stream",
     "text": [
      "Enter an integer 756484394\n",
      "The reversed integer is:  493484657\n"
     ]
    }
   ],
   "source": [
    "#Code to reverse an integer \n",
    "n = int(input(\"Enter an integer \"))\n",
    "x = n\n",
    "r = 0\n",
    "while n>0:\n",
    "    d = n%10\n",
    "    r = r*10+d\n",
    "    n=n//10\n",
    "print(\"The reversed integer is: \",r)"
   ]
  },
  {
   "cell_type": "code",
   "execution_count": 8,
   "id": "150ec83e",
   "metadata": {},
   "outputs": [
    {
     "name": "stdout",
     "output_type": "stream",
     "text": [
      "Enter a number 78\n",
      "78 is even number \n"
     ]
    }
   ],
   "source": [
    "#To find a given number is even or odd\n",
    "a = int(input(\"Enter a number \"))\n",
    "r = a%2\n",
    "if r==0:\n",
    "    print(a,\"is even number \")\n",
    "elif r>0:\n",
    "    print(a,\"is odd number \")\n",
    "else:\n",
    "    print(\"you enter a number 0 or less than 0\")"
   ]
  },
  {
   "cell_type": "code",
   "execution_count": null,
   "id": "d3bb50e5",
   "metadata": {},
   "outputs": [],
   "source": []
  }
 ],
 "metadata": {
  "kernelspec": {
   "display_name": "Python 3 (ipykernel)",
   "language": "python",
   "name": "python3"
  },
  "language_info": {
   "codemirror_mode": {
    "name": "ipython",
    "version": 3
   },
   "file_extension": ".py",
   "mimetype": "text/x-python",
   "name": "python",
   "nbconvert_exporter": "python",
   "pygments_lexer": "ipython3",
   "version": "3.11.4"
  }
 },
 "nbformat": 4,
 "nbformat_minor": 5
}
